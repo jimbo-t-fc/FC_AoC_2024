{
 "cells": [
  {
   "cell_type": "markdown",
   "metadata": {},
   "source": [
    "Import data reader"
   ]
  },
  {
   "cell_type": "code",
   "execution_count": 73,
   "metadata": {},
   "outputs": [],
   "source": [
    "from get_test_input import read_input\n",
    "import re"
   ]
  },
  {
   "cell_type": "markdown",
   "metadata": {},
   "source": [
    "### Day 1"
   ]
  },
  {
   "cell_type": "code",
   "execution_count": 2,
   "metadata": {},
   "outputs": [
    {
     "name": "stdout",
     "output_type": "stream",
     "text": [
      "Day 1 round 1 answer = 2164381\n",
      "Day 1 round 2 answer = 20719933\n"
     ]
    }
   ],
   "source": [
    "lines = read_input(day=1, round=1, test=False)\n",
    "left_list, right_list = [int(l.split('   ')[0]) for l in lines], [int(l.split('   ')[1]) for l in lines]\n",
    "left_list.sort()\n",
    "right_list.sort()\n",
    "print('Day 1 round 1 answer =', sum([abs(x-y) for x,y in zip(left_list, right_list)]))\n",
    "print('Day 1 round 2 answer =', sum([x*right_list.count(x) for x in list(set(left_list).intersection(set(right_list))) ]))"
   ]
  },
  {
   "cell_type": "markdown",
   "metadata": {},
   "source": [
    "### Day 2"
   ]
  },
  {
   "cell_type": "code",
   "execution_count": 52,
   "metadata": {},
   "outputs": [
    {
     "name": "stdout",
     "output_type": "stream",
     "text": [
      "Day 2 round 1 answer = 306\n",
      "Day 2 round 2 answer = 366\n"
     ]
    }
   ],
   "source": [
    "lines = read_input(day=2, round=1, test=False)\n",
    "reports = [[int(x) for x in l.split(' ')] for l in lines]\n",
    "\n",
    "def is_safe(report):\n",
    "   return abs(sum([(report[i] - report[i+1])/abs(report[i] - report[i+1]) if 0 < abs(report[i] - report[i+1]) <= 3  else 0 for i in range(len(report)-1 )]))==len(report)-1\n",
    "\n",
    "safe_reports = sum([is_safe(report) for report in reports])\n",
    "\n",
    "def is_safe_with_damping(report):\n",
    "    return is_safe(report) or any(is_safe(report[:i] + report[i + 1:]) for i in range(len(report)))\n",
    "\n",
    "safe_reports_with_damping = sum([is_safe_with_damping(report) for report in reports])\n",
    "\n",
    "print('Day 2 round 1 answer =', safe_reports)\n",
    "print('Day 2 round 2 answer =', safe_reports_with_damping)"
   ]
  },
  {
   "cell_type": "markdown",
   "metadata": {},
   "source": [
    "### Day 3"
   ]
  },
  {
   "cell_type": "code",
   "execution_count": 49,
   "metadata": {},
   "outputs": [
    {
     "name": "stdout",
     "output_type": "stream",
     "text": [
      "Day 3 round 1 answer = 161\n",
      "Day 3 round 2 answer = 72948684\n"
     ]
    }
   ],
   "source": [
    "multipliers = read_input(day=3, round=1, test=True,regex_screen=r'mul\\(\\d{1,3},\\d{1,3}\\)')\n",
    "total_1 = sum([int(mul[mul.index('(')+1:mul.index(',')])*int(mul[mul.index(',')+1:-1]) for mul in multipliers])\n",
    "multipliers_and_enablers = read_input(day=3, round=1, test=False,regex_screen=r'mul\\(\\d{1,3},\\d{1,3}\\)|do\\(\\)|don\\'t\\(\\)')\n",
    "\n",
    "skip = False\n",
    "enabled_multipliers = list(filter(lambda x: x!='do()',[mul_enabler for mul_enabler in multipliers_and_enablers if  skip == False and mul_enabler != \"do()\" and  not (skip := mul_enabler == \"don't()\") or (mul_enabler == \"do()\" and not (skip := False))]))\n",
    "total_2 = sum([int(mul[mul.index('(')+1:mul.index(',')])*int(mul[mul.index(',')+1:-1]) for mul in enabled_multipliers])\n",
    " \n",
    "print('Day 3 round 1 answer =', total_1)\n",
    "print('Day 3 round 2 answer =', total_2)"
   ]
  },
  {
   "cell_type": "markdown",
   "metadata": {},
   "source": [
    "### Day 4"
   ]
  },
  {
   "cell_type": "code",
   "execution_count": 99,
   "metadata": {},
   "outputs": [
    {
     "name": "stdout",
     "output_type": "stream",
     "text": [
      "Day 4 round 1 answer = 2545\n",
      "Day 4 round 2 answer = 1886\n"
     ]
    }
   ],
   "source": [
    "grid = read_input(day=4, test=False)\n",
    "def get_rows_columns_diagonals(grid):\n",
    "    rows , columns = grid , [''.join(col) for col in zip(*grid)]\n",
    "    num_rows, num_cols= len(columns), len(rows)\n",
    "\n",
    "    diagonals = [''.join([grid[r + d][d] for d in range(min(num_rows - r, num_cols))]) for r in range(num_rows)] + [\n",
    "                ''.join([grid[d][c + d] for d in range(min(num_rows, num_cols - c))]) for c in range(1, num_cols)] +[\n",
    "                ''.join([grid[r + d][num_cols - 1 - d] for d in range(min(num_rows - r, num_cols))]) for r in range(num_rows)] + [\n",
    "                ''.join([grid[d][c - d] for d in range(min(num_rows, c + 1))])for c in range(num_cols - 1)]\n",
    "    return rows + columns + diagonals\n",
    "\n",
    "def get_x_s(grid):\n",
    "    return [(grid[r+1][c+1]+grid[r][c]+grid[r-1][c-1],grid[r-1][c+1]+grid[r][c]+grid[r+1][c-1]) for r in range(1, len(grid)-1) for c in range(1, len(grid[0])-1)]\n",
    "\n",
    "def count_string_appearances(strings, substring):\n",
    "    return sum([len(re.findall(f'(?={re.escape(substring)})', string))+len(re.findall(f'(?={re.escape(substring[::-1])})', string)) for string in strings])\n",
    "\n",
    "def count_x_strings(xs, string):\n",
    "    return sum([string_1 in (string ,string[::-1]) and string_2 in (string ,string[::-1]) for string_1, string_2 in xs])\n",
    "\n",
    "round_1 = count_string_appearances(get_rows_columns_diagonals(grid), 'XMAS')\n",
    "round_2 = count_x_strings(get_x_s(grid), 'MAS')\n",
    "\n",
    "print('Day 4 round 1 answer =', round_1)\n",
    "print('Day 4 round 2 answer =', round_2)"
   ]
  },
  {
   "cell_type": "markdown",
   "metadata": {},
   "source": [
    "### Day 5"
   ]
  },
  {
   "cell_type": "code",
   "execution_count": 238,
   "metadata": {},
   "outputs": [
    {
     "ename": "KeyboardInterrupt",
     "evalue": "",
     "output_type": "error",
     "traceback": [
      "\u001b[0;31m---------------------------------------------------------------------------\u001b[0m",
      "\u001b[0;31mKeyboardInterrupt\u001b[0m                         Traceback (most recent call last)",
      "Cell \u001b[0;32mIn[238], line 41\u001b[0m\n\u001b[1;32m     39\u001b[0m \u001b[38;5;66;03m# Add up results for answers to part 1 and 2\u001b[39;00m\n\u001b[1;32m     40\u001b[0m round_1 \u001b[38;5;241m=\u001b[39m \u001b[38;5;28msum\u001b[39m([\u001b[38;5;28mint\u001b[39m(update[\u001b[38;5;28mlen\u001b[39m(update)\u001b[38;5;241m/\u001b[39m\u001b[38;5;241m/\u001b[39m\u001b[38;5;241m2\u001b[39m ]) \u001b[38;5;28;01mfor\u001b[39;00m update \u001b[38;5;129;01min\u001b[39;00m updates \u001b[38;5;28;01mif\u001b[39;00m validate_update(rule_dict,update)])\n\u001b[0;32m---> 41\u001b[0m round_2 \u001b[38;5;241m=\u001b[39m \u001b[38;5;28msum\u001b[39m(\u001b[43m[\u001b[49m\u001b[43mvalidate_update\u001b[49m\u001b[43m(\u001b[49m\u001b[43mrule_dict\u001b[49m\u001b[43m,\u001b[49m\u001b[43m \u001b[49m\u001b[43mupdate\u001b[49m\u001b[43m,\u001b[49m\u001b[43m \u001b[49m\u001b[43mreturn_correction\u001b[49m\u001b[38;5;241;43m=\u001b[39;49m\u001b[38;5;28;43;01mTrue\u001b[39;49;00m\u001b[43m)\u001b[49m\u001b[43m \u001b[49m\u001b[38;5;28;43;01mfor\u001b[39;49;00m\u001b[43m \u001b[49m\u001b[43mupdate\u001b[49m\u001b[43m \u001b[49m\u001b[38;5;129;43;01min\u001b[39;49;00m\u001b[43m \u001b[49m\u001b[43mupdates\u001b[49m\u001b[43m]\u001b[49m)\n\u001b[1;32m     42\u001b[0m \u001b[38;5;28mprint\u001b[39m(\u001b[38;5;124m'\u001b[39m\u001b[38;5;124mDay 5 round 1 answer =\u001b[39m\u001b[38;5;124m'\u001b[39m, round_1)\n\u001b[1;32m     43\u001b[0m \u001b[38;5;28mprint\u001b[39m(\u001b[38;5;124m'\u001b[39m\u001b[38;5;124mDay 5 round 2 answer =\u001b[39m\u001b[38;5;124m'\u001b[39m, round_2)\n",
      "Cell \u001b[0;32mIn[238], line 41\u001b[0m, in \u001b[0;36m<listcomp>\u001b[0;34m(.0)\u001b[0m\n\u001b[1;32m     39\u001b[0m \u001b[38;5;66;03m# Add up results for answers to part 1 and 2\u001b[39;00m\n\u001b[1;32m     40\u001b[0m round_1 \u001b[38;5;241m=\u001b[39m \u001b[38;5;28msum\u001b[39m([\u001b[38;5;28mint\u001b[39m(update[\u001b[38;5;28mlen\u001b[39m(update)\u001b[38;5;241m/\u001b[39m\u001b[38;5;241m/\u001b[39m\u001b[38;5;241m2\u001b[39m ]) \u001b[38;5;28;01mfor\u001b[39;00m update \u001b[38;5;129;01min\u001b[39;00m updates \u001b[38;5;28;01mif\u001b[39;00m validate_update(rule_dict,update)])\n\u001b[0;32m---> 41\u001b[0m round_2 \u001b[38;5;241m=\u001b[39m \u001b[38;5;28msum\u001b[39m([\u001b[43mvalidate_update\u001b[49m\u001b[43m(\u001b[49m\u001b[43mrule_dict\u001b[49m\u001b[43m,\u001b[49m\u001b[43m \u001b[49m\u001b[43mupdate\u001b[49m\u001b[43m,\u001b[49m\u001b[43m \u001b[49m\u001b[43mreturn_correction\u001b[49m\u001b[38;5;241;43m=\u001b[39;49m\u001b[38;5;28;43;01mTrue\u001b[39;49;00m\u001b[43m)\u001b[49m \u001b[38;5;28;01mfor\u001b[39;00m update \u001b[38;5;129;01min\u001b[39;00m updates])\n\u001b[1;32m     42\u001b[0m \u001b[38;5;28mprint\u001b[39m(\u001b[38;5;124m'\u001b[39m\u001b[38;5;124mDay 5 round 1 answer =\u001b[39m\u001b[38;5;124m'\u001b[39m, round_1)\n\u001b[1;32m     43\u001b[0m \u001b[38;5;28mprint\u001b[39m(\u001b[38;5;124m'\u001b[39m\u001b[38;5;124mDay 5 round 2 answer =\u001b[39m\u001b[38;5;124m'\u001b[39m, round_2)\n",
      "Cell \u001b[0;32mIn[238], line 18\u001b[0m, in \u001b[0;36mvalidate_update\u001b[0;34m(rule_dict, original_update, return_correction)\u001b[0m\n\u001b[1;32m     16\u001b[0m update \u001b[38;5;241m=\u001b[39m original_update\u001b[38;5;241m.\u001b[39mcopy()\n\u001b[1;32m     17\u001b[0m i \u001b[38;5;241m=\u001b[39m \u001b[38;5;241m0\u001b[39m\n\u001b[0;32m---> 18\u001b[0m \u001b[38;5;28;01mwhile\u001b[39;00m \u001b[43mi\u001b[49m\u001b[43m \u001b[49m\u001b[38;5;241;43m<\u001b[39;49m\u001b[43m \u001b[49m\u001b[38;5;28;43mlen\u001b[39;49m\u001b[43m(\u001b[49m\u001b[43mupdate\u001b[49m\u001b[43m)\u001b[49m:\n\u001b[1;32m     20\u001b[0m     page , afters,  befores \u001b[38;5;241m=\u001b[39m update[i], \u001b[38;5;28mset\u001b[39m(update[i\u001b[38;5;241m+\u001b[39m\u001b[38;5;241m1\u001b[39m:]), \u001b[38;5;28mset\u001b[39m(update[:i])\n\u001b[1;32m     21\u001b[0m     should_be_before\u001b[38;5;241m=\u001b[39m{}\n",
      "\u001b[0;31mKeyboardInterrupt\u001b[0m: "
     ]
    }
   ],
   "source": [
    "#code to read input\n",
    "rules, updates = read_input(day=5,test=False,input_delimter='\\n\\n')\n",
    "\n",
    "rules = rules.split('\\n')\n",
    "updates = [update.split(',') for update in updates.split('\\n')]\n",
    "\n",
    "# Define rule dictionary - originally did a before and after dict, is that more efficient? don't think so\n",
    "\n",
    "rule_dict = {}\n",
    "for rule in rules:\n",
    "    before , after = rule.split('|')\n",
    "    if after in rule_dict:\n",
    "        rule_dict[after].add(before)\n",
    "    else:\n",
    "        rule_dict[after] ={before}\n",
    "\n",
    "# If return correction = True we are answering part two and we will fix the update and then return the new middle entry\n",
    "def validate_update(rule_dict, original_update, return_correction = False):\n",
    "    update = original_update.copy()\n",
    "    i = 0\n",
    "    while i < len(update):\n",
    "\n",
    "        page , afters,  befores = update[i], set(update[i+1:]), set(update[:i])\n",
    "        should_be_before={}\n",
    "        if (page in rule_dict and (should_be_before := afters & rule_dict[page])):\n",
    "            \n",
    "            if not return_correction:\n",
    "                return False\n",
    "            else:\n",
    "                update = update[:i] +[a for a in update[i+1:] if a in should_be_before ]+ [a for a in update[i:] if  a not in should_be_before ]\n",
    "                i -= 1 \n",
    "        i += 1\n",
    "    \n",
    "    else:\n",
    "        if not return_correction:\n",
    "            return  True\n",
    "        elif update != original_update:\n",
    "            return int(update[i//2])\n",
    "        else:\n",
    "            return 0\n",
    "\n",
    "# Add up results for answers to part 1 and 2\n",
    "round_1 = sum([int(update[len(update)//2 ]) for update in updates if validate_update(rule_dict,update)])\n",
    "round_2 = sum([validate_update(rule_dict, update, return_correction=True) for update in updates])\n",
    "print('Day 5 round 1 answer =', round_1)\n",
    "print('Day 5 round 2 answer =', round_2)\n"
   ]
  },
  {
   "cell_type": "code",
   "execution_count": 236,
   "metadata": {},
   "outputs": [
    {
     "data": {
      "text/plain": [
       "{'78': '46',\n",
       " '46': '84',\n",
       " '23': '24',\n",
       " '41': '46',\n",
       " '15': '35',\n",
       " '42': '37',\n",
       " '24': '72',\n",
       " '82': '37',\n",
       " '73': '93',\n",
       " '53': '88',\n",
       " '83': '53',\n",
       " '56': '74',\n",
       " '44': '35',\n",
       " '74': '24',\n",
       " '34': '24',\n",
       " '49': '72',\n",
       " '54': '93',\n",
       " '84': '17',\n",
       " '26': '88',\n",
       " '72': '46',\n",
       " '79': '53',\n",
       " '76': '37',\n",
       " '65': '17',\n",
       " '25': '29',\n",
       " '18': '92',\n",
       " '47': '76',\n",
       " '63': '24',\n",
       " '36': '24',\n",
       " '93': '72',\n",
       " '96': '35',\n",
       " '17': '92',\n",
       " '51': '92',\n",
       " '35': '29',\n",
       " '64': '88',\n",
       " '68': '46',\n",
       " '31': '35',\n",
       " '71': '35',\n",
       " '29': '88',\n",
       " '13': '74',\n",
       " '37': '74',\n",
       " '11': '84',\n",
       " '87': '56',\n",
       " '59': '18',\n",
       " '88': '35',\n",
       " '38': '18',\n",
       " '98': '24',\n",
       " '89': '29',\n",
       " '12': '92',\n",
       " '92': '29'}"
      ]
     },
     "execution_count": 236,
     "metadata": {},
     "output_type": "execute_result"
    }
   ],
   "source": [
    "rule_dict"
   ]
  },
  {
   "cell_type": "code",
   "execution_count": null,
   "metadata": {},
   "outputs": [],
   "source": []
  }
 ],
 "metadata": {
  "kernelspec": {
   "display_name": "Python 3",
   "language": "python",
   "name": "python3"
  },
  "language_info": {
   "codemirror_mode": {
    "name": "ipython",
    "version": 3
   },
   "file_extension": ".py",
   "mimetype": "text/x-python",
   "name": "python",
   "nbconvert_exporter": "python",
   "pygments_lexer": "ipython3",
   "version": "3.11.5"
  }
 },
 "nbformat": 4,
 "nbformat_minor": 2
}
