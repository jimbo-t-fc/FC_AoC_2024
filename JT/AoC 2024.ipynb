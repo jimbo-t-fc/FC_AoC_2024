{
 "cells": [
  {
   "cell_type": "code",
   "execution_count": 2,
   "metadata": {},
   "outputs": [],
   "source": [
    "from get_test_input import read_input\n",
    "import re\n",
    "from itertools import product, combinations\n",
    "from collections import defaultdict, deque\n",
    "import math as m\n",
    "import numpy as np\n",
    "import heapq"
   ]
  },
  {
   "cell_type": "markdown",
   "metadata": {},
   "source": [
    "### Day 1"
   ]
  },
  {
   "cell_type": "code",
   "execution_count": 2,
   "metadata": {},
   "outputs": [
    {
     "name": "stdout",
     "output_type": "stream",
     "text": [
      "Day 1 round 1 answer = 2164381\n",
      "Day 1 round 2 answer = 20719933\n"
     ]
    }
   ],
   "source": [
    "lines = read_input(day=1, round=1, test=False)\n",
    "left_list, right_list = [int(l.split('   ')[0]) for l in lines], [int(l.split('   ')[1]) for l in lines]\n",
    "left_list.sort()\n",
    "right_list.sort()\n",
    "print('Day 1 round 1 answer =', sum([abs(x-y) for x,y in zip(left_list, right_list)]))\n",
    "print('Day 1 round 2 answer =', sum([x*right_list.count(x) for x in list(set(left_list).intersection(set(right_list))) ]))"
   ]
  },
  {
   "cell_type": "markdown",
   "metadata": {},
   "source": [
    "### Day 2"
   ]
  },
  {
   "cell_type": "code",
   "execution_count": 52,
   "metadata": {},
   "outputs": [
    {
     "name": "stdout",
     "output_type": "stream",
     "text": [
      "Day 2 round 1 answer = 306\n",
      "Day 2 round 2 answer = 366\n"
     ]
    }
   ],
   "source": [
    "lines = read_input(day=2, round=1, test=False)\n",
    "reports = [[int(x) for x in l.split(' ')] for l in lines]\n",
    "\n",
    "def is_safe(report):\n",
    "   return abs(sum([(report[i] - report[i+1])/abs(report[i] - report[i+1]) if 0 < abs(report[i] - report[i+1]) <= 3  else 0 for i in range(len(report)-1 )]))==len(report)-1\n",
    "\n",
    "safe_reports = sum([is_safe(report) for report in reports])\n",
    "\n",
    "def is_safe_with_damping(report):\n",
    "    return is_safe(report) or any(is_safe(report[:i] + report[i + 1:]) for i in range(len(report)))\n",
    "\n",
    "safe_reports_with_damping = sum([is_safe_with_damping(report) for report in reports])\n",
    "\n",
    "print('Day 2 round 1 answer =', safe_reports)\n",
    "print('Day 2 round 2 answer =', safe_reports_with_damping)"
   ]
  },
  {
   "cell_type": "markdown",
   "metadata": {},
   "source": [
    "### Day 3"
   ]
  },
  {
   "cell_type": "code",
   "execution_count": 49,
   "metadata": {},
   "outputs": [
    {
     "name": "stdout",
     "output_type": "stream",
     "text": [
      "Day 3 round 1 answer = 161\n",
      "Day 3 round 2 answer = 72948684\n"
     ]
    }
   ],
   "source": [
    "multipliers = read_input(day=3, round=1, test=True,regex_screen=r'mul\\(\\d{1,3},\\d{1,3}\\)')\n",
    "\n",
    "total_1 = sum([int(mul[mul.index('(')+1:mul.index(',')])*int(mul[mul.index(',')+1:-1]) for mul in multipliers])\n",
    "multipliers_and_enablers = read_input(day=3, round=1, test=False,regex_screen=r'mul\\(\\d{1,3},\\d{1,3}\\)|do\\(\\)|don\\'t\\(\\)')\n",
    "\n",
    "skip = False\n",
    "enabled_multipliers = list(filter(lambda x: x!='do()',[mul_enabler for mul_enabler in multipliers_and_enablers if  skip == False and mul_enabler != \"do()\" and  not (skip := mul_enabler == \"don't()\") or (mul_enabler == \"do()\" and not (skip := False))]))\n",
    "total_2 = sum([int(mul[mul.index('(')+1:mul.index(',')])*int(mul[mul.index(',')+1:-1]) for mul in enabled_multipliers])\n",
    " \n",
    "print('Day 3 round 1 answer =', total_1)\n",
    "print('Day 3 round 2 answer =', total_2)"
   ]
  },
  {
   "cell_type": "markdown",
   "metadata": {},
   "source": [
    "### Day 4"
   ]
  },
  {
   "cell_type": "code",
   "execution_count": 99,
   "metadata": {},
   "outputs": [
    {
     "name": "stdout",
     "output_type": "stream",
     "text": [
      "Day 4 round 1 answer = 2545\n",
      "Day 4 round 2 answer = 1886\n"
     ]
    }
   ],
   "source": [
    "grid = read_input(day=4, test=False)\n",
    "def get_rows_columns_diagonals(grid):\n",
    "    rows , columns = grid , [''.join(col) for col in zip(*grid)]\n",
    "    num_rows, num_cols= len(columns), len(rows)\n",
    "\n",
    "    diagonals = [''.join([grid[r + d][d] for d in range(min(num_rows - r, num_cols))]) for r in range(num_rows)] + [\n",
    "                ''.join([grid[d][c + d] for d in range(min(num_rows, num_cols - c))]) for c in range(1, num_cols)] +[\n",
    "                ''.join([grid[r + d][num_cols - 1 - d] for d in range(min(num_rows - r, num_cols))]) for r in range(num_rows)] + [\n",
    "                ''.join([grid[d][c - d] for d in range(min(num_rows, c + 1))])for c in range(num_cols - 1)]\n",
    "    return rows + columns + diagonals\n",
    "\n",
    "def get_x_s(grid):\n",
    "    return [(grid[r+1][c+1]+grid[r][c]+grid[r-1][c-1],grid[r-1][c+1]+grid[r][c]+grid[r+1][c-1]) for r in range(1, len(grid)-1) for c in range(1, len(grid[0])-1)]\n",
    "\n",
    "def count_string_appearances(strings, substring):\n",
    "    return sum([len(re.findall(f'(?={re.escape(substring)})', string))+len(re.findall(f'(?={re.escape(substring[::-1])})', string)) for string in strings])\n",
    "\n",
    "def count_x_strings(xs, string):\n",
    "    return sum([string_1 in (string ,string[::-1]) and string_2 in (string ,string[::-1]) for string_1, string_2 in xs])\n",
    "\n",
    "round_1 = count_string_appearances(get_rows_columns_diagonals(grid), 'XMAS')\n",
    "round_2 = count_x_strings(get_x_s(grid), 'MAS')\n",
    "\n",
    "print('Day 4 round 1 answer =', round_1)\n",
    "print('Day 4 round 2 answer =', round_2)"
   ]
  },
  {
   "cell_type": "markdown",
   "metadata": {},
   "source": [
    "### Day 5"
   ]
  },
  {
   "cell_type": "code",
   "execution_count": 239,
   "metadata": {},
   "outputs": [
    {
     "name": "stdout",
     "output_type": "stream",
     "text": [
      "Day 5 round 1 answer = 5374\n",
      "Day 5 round 2 answer = 4260\n"
     ]
    }
   ],
   "source": [
    "#code to read input\n",
    "rules, updates = read_input(day=5,test=False,input_delimter='\\n\\n')\n",
    "\n",
    "rules = rules.split('\\n')\n",
    "updates = [update.split(',') for update in updates.split('\\n')]\n",
    "\n",
    "# Define rule dictionary - originally did a before and after dict, is that more efficient? don't think so\n",
    "\n",
    "rule_dict = {}\n",
    "for rule in rules:\n",
    "    before , after = rule.split('|')\n",
    "    if after in rule_dict:\n",
    "        rule_dict[after].add(before)\n",
    "    else:\n",
    "        rule_dict[after] ={before}\n",
    "\n",
    "# If return correction = True we are answering part two and we will fix the update and then return the new middle entry\n",
    "def validate_update(rule_dict, original_update, return_correction = False):\n",
    "    update = original_update.copy()\n",
    "    i = 0\n",
    "    while i < len(update):\n",
    "\n",
    "        page , afters, should_be_before = update[i], set(update[i+1:]), {}\n",
    "        \n",
    "        if (page in rule_dict and (should_be_before := afters & rule_dict[page])):\n",
    "            if not return_correction:\n",
    "                return False\n",
    "            else:\n",
    "                update = update[:i] +[a for a in update[i+1:] if a in should_be_before ]+ [a for a in update[i:] if  a not in should_be_before ]\n",
    "                i -= 1 \n",
    "        i += 1\n",
    "    \n",
    "    else:\n",
    "        if not return_correction:\n",
    "            return  True\n",
    "        elif update != original_update:\n",
    "            return int(update[i//2])\n",
    "        else:\n",
    "            return 0\n",
    "\n",
    "# Add up results for answers to part 1 and 2\n",
    "round_1 = sum([int(update[len(update)//2 ]) for update in updates if validate_update(rule_dict,update)])\n",
    "round_2 = sum([validate_update(rule_dict, update, return_correction=True) for update in updates])\n",
    "print('Day 5 round 1 answer =', round_1)\n",
    "print('Day 5 round 2 answer =', round_2)\n"
   ]
  },
  {
   "cell_type": "markdown",
   "metadata": {},
   "source": [
    "### Day 6   "
   ]
  },
  {
   "cell_type": "code",
   "execution_count": 8,
   "metadata": {},
   "outputs": [
    {
     "name": "stdout",
     "output_type": "stream",
     "text": [
      "Day 6 round 1 answer = 4758\n",
      "Day 6 round 2 answer = 1670\n"
     ]
    }
   ],
   "source": [
    "positions = read_input(day=6,test=False,input_delimter='\\n')\n",
    "max_row, max_col = len(positions), len(positions[0])\n",
    "position = ''.join(positions).index('^')//max_col, ''.join(positions).index('^') % max_col\n",
    "\n",
    "obstacles =  set([(i, j ) for i , position in enumerate(positions) for j in range(len(position)) if  positions[i][j] == '#'])\n",
    "\n",
    "def create_trail(position, obstacles, max_row, max_col):\n",
    "    trail = [position]\n",
    "    y_dir , x_dir, rotations = 2, 1 , [-1,0,1,0]\n",
    "    rotation_trail = {(position,(y_dir,x_dir))}\n",
    "    while 0< position[0] < max_row-1 and 0<position[1] < max_col -1:\n",
    "        new_position =  position[0]-rotations[y_dir] , position[1] + rotations[x_dir]\n",
    "        if new_position in obstacles:\n",
    "            y_dir, x_dir = (y_dir + 1) % 4, (x_dir + 1) % 4\n",
    "        elif  (new_position,(y_dir, x_dir)) in  rotation_trail:\n",
    "            return trail, rotation_trail, True\n",
    "        else:\n",
    "            position = new_position\n",
    "            trail.append(position)\n",
    "            rotation_trail.add((position,(y_dir, x_dir)))\n",
    "    return trail, rotation_trail, False\n",
    "\n",
    "def find_loops(trail, obstacles, max_row, max_col):\n",
    "    new_obstacles = set()\n",
    "    for i, position in enumerate(trail[1:]):\n",
    "        if position not in new_obstacles and position not in trail[:i]:\n",
    "            _, _, loop_found = create_trail(trail[0],obstacles|{position},max_row, max_col)\n",
    "            if loop_found:\n",
    "                new_obstacles.add(position)\n",
    "    return new_obstacles\n",
    "round_1_trail, round_1_rotation_trail, loop_found = create_trail(position, obstacles, max_row, max_col)\n",
    "print('Day 6 round 1 answer =', len(set(round_1_trail)))\n",
    "new_obstacles = find_loops(round_1_trail, obstacles, max_row, max_col)\n",
    "print('Day 6 round 2 answer =', len(new_obstacles))\n"
   ]
  },
  {
   "cell_type": "markdown",
   "metadata": {},
   "source": [
    "### Day 7"
   ]
  },
  {
   "cell_type": "code",
   "execution_count": 56,
   "metadata": {},
   "outputs": [
    {
     "name": "stdout",
     "output_type": "stream",
     "text": [
      "Day 7 round 1 answer = 5702958180383\n",
      "Day 7 round 2 answer = 92612386119138\n"
     ]
    }
   ],
   "source": [
    "eqn_dict = [(int(line.split(': ')[0]),[int(x) for x in line.split(': ')[1].split(' ')]) for line in read_input(day=7,test=False)]\n",
    "\n",
    "def validate_eqns(numbers,value,op_options):\n",
    "    if not all(op_option in {'*','+','||'} for op_option in op_options):\n",
    "        raise ValueError(f\"Invalid input: {op_options}. All items must be in '*','+','||'.\")    \n",
    "    num_ops = len(numbers) - 1\n",
    "    perms = product(op_options, repeat=num_ops)\n",
    "    for ops in perms:\n",
    "        current_result = numbers[0]\n",
    "        for i, op in enumerate(ops):\n",
    "            if op == '+':\n",
    "                current_result = current_result + numbers[i + 1]\n",
    "            elif  op == '*':\n",
    "                current_result = current_result * numbers[i + 1]\n",
    "            else:\n",
    "                current_result = int(f'{current_result}{numbers[i+1]}')\n",
    "        if current_result == value:\n",
    "            return value\n",
    "    return 0\n",
    "\n",
    "round_1 = sum([validate_eqns(numbers, value, ['+', '*']) for value, numbers in eqn_dict])\n",
    "print('Day 7 round 1 answer =',round_1)\n",
    "\n",
    "round_2 = sum([validate_eqns(numbers, value, ['+', '*','||']) for value, numbers in eqn_dict])\n",
    "print('Day 7 round 2 answer =',round_2)\n",
    "\n"
   ]
  },
  {
   "cell_type": "markdown",
   "metadata": {},
   "source": [
    "### Day 8"
   ]
  },
  {
   "cell_type": "code",
   "execution_count": 114,
   "metadata": {},
   "outputs": [
    {
     "name": "stdout",
     "output_type": "stream",
     "text": [
      "Day 8 round 1 answer = 323\n",
      "Day 8 round 2 answer = 1077\n"
     ]
    }
   ],
   "source": [
    "node_dict , lines = defaultdict(list), read_input(day=8,test=False)\n",
    "for key, value in [(char,(i,j))  for i, line in enumerate(lines) for j, char in enumerate(line) if char != '.']:\n",
    "    node_dict[key].append(value)\n",
    "max_x, max_y = len(lines) - 1, len(lines[0]) - 1\n",
    "antinodes, meta_nodes = [], []\n",
    "for char , coords in node_dict.items():\n",
    "    coord_pairs = combinations(coords, 2)\n",
    "    for coord_1, coord_2  in coord_pairs:\n",
    "        x_1, y_1, x_2, y_2 = *coord_1, *coord_2\n",
    "        dx , dy = x_2 - x_1 , y_2 - y_1\n",
    "        divisor = m.gcd(dx, dy)\n",
    "        unit_dx, unit_dy = dx // divisor, dy // divisor\n",
    "        for direction in [-1,1]:\n",
    "            new_x_1 , new_x_2, new_y_1, new_y_2 = x_1, x_2, y_1, y_2\n",
    "            while 0 <= new_x_1 <= max_x and 0<= new_y_1 <= max_y :\n",
    "                meta_nodes.append((new_x_1, new_y_1))\n",
    "                if (new_x_1 == x_1 - dx and new_y_1 == y_1 - dy) or (new_x_1 == x_2 + dx and new_y_1 == y_2 + dy):\n",
    "                    antinodes.append((new_x_1, new_y_1))\n",
    "                new_x_1 , new_y_1 = new_x_1 + direction * unit_dx , new_y_1 + direction * unit_dy\n",
    "print('Day 8 round 1 answer =',len(set(antinodes)))\n",
    "print('Day 8 round 2 answer =',len(set(meta_nodes)))\n"
   ]
  },
  {
   "cell_type": "markdown",
   "metadata": {},
   "source": [
    "### Day 9"
   ]
  },
  {
   "cell_type": "code",
   "execution_count": 31,
   "metadata": {},
   "outputs": [
    {
     "name": "stdout",
     "output_type": "stream",
     "text": [
      "Day 9 round 1 answer = 6370402949053\n",
      "Day 9 round 2 answer = 6398096697992\n"
     ]
    }
   ],
   "source": [
    "disk_info = [[int(str(i//2))]*int(num)  if i % 2 == 0 else [-1]*int(num)  for i , num in enumerate(read_input(day=9,test=False)[0])]\n",
    "disk = [file for files in disk_info for file in files ]\n",
    "\n",
    "new_disk_1 , new_disk_2 = disk.copy(), disk.copy()\n",
    "\n",
    "# Part 1\n",
    "space_locations , number_locations = [i for i, x in enumerate(disk) if x == -1], [i for i, x in enumerate(disk) if x != -1]\n",
    "\n",
    "for i, space_location in enumerate(space_locations):\n",
    "    num_location = number_locations[-(i+1)]\n",
    "    if num_location < space_location:\n",
    "        break\n",
    "    else:\n",
    "        new_disk_1[space_location] , new_disk_1[num_location] = new_disk_1[num_location], -1\n",
    "\n",
    "\n",
    "# Part 2\n",
    "occupied_blocks, empty_blocks = [], []\n",
    "start_of_block = 0\n",
    "for i in range(1, len(disk)):\n",
    "    if disk[i] != disk[start_of_block]:\n",
    "        if disk[start_of_block] == -1:\n",
    "            empty_blocks.append([start_of_block, i - 1])\n",
    "        else:\n",
    "            occupied_blocks.append([start_of_block, i - 1])\n",
    "        start_of_block = i\n",
    "if disk[start_of_block] != -1:\n",
    "    occupied_blocks.append([start_of_block, len(disk) - 1])\n",
    "\n",
    "\n",
    "for block_start, block_end in occupied_blocks[::-1]:\n",
    "    block_size = block_end - block_start + 1\n",
    "    for empty_block in empty_blocks:\n",
    "        empty_start, empty_end = empty_block\n",
    "        empty_size = empty_end - empty_start + 1\n",
    "        if empty_start > block_start:\n",
    "            break\n",
    "        if empty_size >= block_size:\n",
    "            new_disk_2[empty_start : empty_start + block_size] = disk[\n",
    "                block_start : block_start + block_size\n",
    "            ]\n",
    "            new_disk_2[block_start : block_start + block_size] = [-1] * block_size\n",
    "            empty_block[0] += block_size\n",
    "            if empty_block[0] > empty_block[1]:\n",
    "                empty_blocks.remove(empty_block)\n",
    "            break\n",
    "print('Day 9 round 1 answer =',sum([i*x for i, x in enumerate(new_disk_1) if x !=-1]))\n",
    "print('Day 9 round 2 answer =',sum([i*x for i, x in enumerate(new_disk_2) if x !=-1]))"
   ]
  },
  {
   "cell_type": "markdown",
   "metadata": {},
   "source": [
    "### Day 10  "
   ]
  },
  {
   "cell_type": "code",
   "execution_count": 32,
   "metadata": {},
   "outputs": [
    {
     "name": "stdout",
     "output_type": "stream",
     "text": [
      "Day 10 round 1 answer = 582\n",
      "Day 10 round 2 answer = 1302\n"
     ]
    }
   ],
   "source": [
    "height_dict = defaultdict(set)\n",
    "map = read_input(day=10,test=False)\n",
    "for i , line in enumerate(map):\n",
    "    for j , height in enumerate(line):\n",
    "        height_dict[int(height)].add((i,j))\n",
    "\n",
    "def find_neighbours(coordinates, max_x, max_y):\n",
    "     return {(new_x, new_y) for x, y in coordinates for new_x, new_y in [(x - 1, y), (x + 1, y), (x, y - 1), (x, y + 1)]\n",
    "              if 0 <= new_x <= max_x and 0 <= new_y <= max_y\n",
    "    }\n",
    "\n",
    "round_1, round_2 = 0, 0\n",
    "max_x , max_y  = len(map), len(map[0])\n",
    "for start_position in height_dict[0]:\n",
    "    coords = {start_position}\n",
    "    trails = defaultdict(int)\n",
    "    trails[start_position] = 1\n",
    "    for i in range(1,10):\n",
    "        #Part 1\n",
    "        coords = find_neighbours(coords, max_x, max_y).intersection(height_dict[i])\n",
    "        #Part 2\n",
    "        next_trails = defaultdict(int) \n",
    "        for coord, trail_count in trails.items():\n",
    "            neighbours = find_neighbours({coord}, max_x, max_y)\n",
    "            valid_neighbours = neighbours.intersection(height_dict[i])\n",
    "            for neighbour in valid_neighbours:\n",
    "                 next_trails[neighbour] += trail_count\n",
    "        trails = next_trails \n",
    "    round_1 += len(coords)\n",
    "    round_2 += sum(trails.values())\n",
    "print('Day 10 round 1 answer =', round_1)\n",
    "print('Day 10 round 2 answer =', round_2)\n"
   ]
  },
  {
   "cell_type": "markdown",
   "metadata": {},
   "source": [
    "### Day 11"
   ]
  },
  {
   "cell_type": "code",
   "execution_count": 48,
   "metadata": {},
   "outputs": [
    {
     "name": "stdout",
     "output_type": "stream",
     "text": [
      "Day 11 round 1 answer = 193899\n",
      "Day 11 round 2 answer = 229682160383225\n"
     ]
    }
   ],
   "source": [
    "power_of_10 = {i: 10 ** i for i in range(20)} \n",
    "\n",
    "stone_dict = defaultdict(int)\n",
    "for stone in map(int, read_input(day=11, test=False, input_delimter=' ')):\n",
    "    stone_dict[stone] += 1\n",
    "\n",
    "\n",
    "def blink(stone):\n",
    "    if stone == 0:\n",
    "        return [1]\n",
    "    else:\n",
    "        num_digits = int(m.log10(stone)) + 1  \n",
    "        if num_digits % 2 == 0:\n",
    "            divisor = power_of_10[num_digits // 2]  \n",
    "            return [stone // divisor, stone % divisor]\n",
    "        else:\n",
    "            return [stone * 2024]\n",
    "\n",
    "# Main loop\n",
    "new_stone_dict = defaultdict(int)\n",
    "for i in range(75):\n",
    "    for stone, count in stone_dict.items():\n",
    "        new_stones = blink(stone)\n",
    "        for new_stone in new_stones:\n",
    "            new_stone_dict[new_stone] += count\n",
    "    stone_dict, new_stone_dict = new_stone_dict, defaultdict(int)  \n",
    "    if i == 24:\n",
    "        round_1 = sum(stone_dict.values()) \n",
    "\n",
    "round_2 = sum(stone_dict.values()) \n",
    "print('Day 11 round 1 answer =', round_1)\n",
    "print('Day 11 round 2 answer =', round_2)"
   ]
  },
  {
   "cell_type": "markdown",
   "metadata": {},
   "source": [
    "### Day 12"
   ]
  },
  {
   "cell_type": "code",
   "execution_count": 92,
   "metadata": {},
   "outputs": [
    {
     "name": "stdout",
     "output_type": "stream",
     "text": [
      "Day 12 round 1 answer = 1396562\n",
      "Day 12 round 2 answer = 844132\n"
     ]
    }
   ],
   "source": [
    "garden = read_input(day=12, test=False)\n",
    "\n",
    "def find_regions(coordinates):\n",
    "    directions = [1,-1,1j,-1j] \n",
    "    visited , regions = set(), []\n",
    "\n",
    "    def search_coords(coord, group):\n",
    "        if coord in visited:\n",
    "            return\n",
    "        visited.add(coord)\n",
    "        group.append(coord)\n",
    "        for d in directions:\n",
    "            neighbour = coord + d\n",
    "            if neighbour in coordinates and neighbour not in visited:\n",
    "                search_coords(neighbour, group)\n",
    "\n",
    "    for coord in coordinates:\n",
    "        if coord not in visited:\n",
    "            group = []\n",
    "            search_coords(coord, group)\n",
    "            regions.append(group)\n",
    "\n",
    "    return regions\n",
    "\n",
    "\n",
    "def calc_area(region):\n",
    "    return len(region)\n",
    "\n",
    "def calc_perimeter(region):\n",
    "    return len( [coord + d for coord in region for d in [1,-1,1j, -1j]  if coord +d not in region])\n",
    "\n",
    "def calc_sides(region):\n",
    "    perimiter_coords =  {(coord,d) for d in (+1,-1,+1j,-1j) for coord in region if coord+d not in region}\n",
    "    roots_of_edges =  perimiter_coords - {(coord+d*1j, d) for coord, d in perimiter_coords}\n",
    "    return len(roots_of_edges)\n",
    "\n",
    "def calc_price(region):\n",
    "    return calc_area(region) * calc_perimeter(region)\n",
    "\n",
    "def calc_discount_price(region):\n",
    "    return calc_area(region) * calc_sides(region)\n",
    "\n",
    "\n",
    "max_x , max_y = len(garden), len(garden[0])\n",
    "\n",
    "letter_locations , regions = defaultdict(set), defaultdict(set)\n",
    "for x , line in enumerate(garden):\n",
    "    for y, letter in enumerate(line):\n",
    "            letter_locations[letter].add(x+y*1j)\n",
    "\n",
    "for letter, coordinates in letter_locations.items():\n",
    "    regions[letter] = find_regions(coordinates)\n",
    "\n",
    "round_1 = sum([calc_price(plot) for letter, region in regions.items()  for plot in region])\n",
    "round_2 = sum([calc_discount_price(plot) for letter, region in regions.items()  for plot in region])\n",
    "print('Day 12 round 1 answer =', round_1)\n",
    "print('Day 12 round 2 answer =', round_2)\n",
    "\n"
   ]
  },
  {
   "cell_type": "markdown",
   "metadata": {},
   "source": [
    "### Day 13"
   ]
  },
  {
   "cell_type": "code",
   "execution_count": 91,
   "metadata": {},
   "outputs": [
    {
     "name": "stdout",
     "output_type": "stream",
     "text": [
      "Day 13 round 1 answer = 36870\n",
      "Day 13 round 2 answer = 78101482023732\n"
     ]
    }
   ],
   "source": [
    "challenges = [challenge.split('\\n') for challenge in read_input(day=13, test=False,input_delimter='\\n\\n')]\n",
    "\n",
    "def parse_to_arrays(input_strings):\n",
    "\n",
    "    x_values = []\n",
    "    y_values = []\n",
    "    prize_values = []\n",
    "    for string in input_strings:\n",
    "        if string.startswith(\"Button\"):\n",
    "            parts = string.split(\", \")\n",
    "            x_values.append(int(parts[0].split(\"+\")[1]))\n",
    "            y_values.append(int(parts[1].split(\"+\")[1]))\n",
    "        elif string.startswith(\"Prize\"):\n",
    "            parts = string.split(\", \")\n",
    "            prize_values.append(int(parts[0].split(\"=\")[1]))\n",
    "            prize_values.append(int(parts[1].split(\"=\")[1]))\n",
    "\n",
    "    buttons_array = np.array([x_values, y_values])\n",
    "    prizes_array = np.array([prize_values]).T  \n",
    "    return buttons_array, prizes_array\n",
    "\n",
    "round_1, round_2 = 0, 0\n",
    "for challenge in challenges:\n",
    "    button_array , prize_array = parse_to_arrays(challenge)\n",
    "    second_column = prize_array + 10000000000000 \n",
    "    full_prize_array = np.hstack((prize_array, second_column))\n",
    "    try:\n",
    "        inverse =  np.linalg.inv(button_array)\n",
    "        solution =np.round( inverse @ full_prize_array, decimals=2) # I ACKNOWLEDGE THIS IS A COMPLETE FLUKE BUT I WAS NOT EXACTLY FEELING GREAT\n",
    "        if solution[0][0].is_integer() and solution[1][0].is_integer():\n",
    "            round_1 += 3*solution[0][0]+solution[1][0]\n",
    "        if solution[0][1].is_integer() and solution[1][1].is_integer():\n",
    "            round_2 += 3*solution[0][1]+solution[1][1]\n",
    "    except np.linalg.LinAlgError:\n",
    "        pass\n",
    "print('Day 13 round 1 answer =', int(round_1))\n",
    "print('Day 13 round 2 answer =', int(round_2))"
   ]
  },
  {
   "cell_type": "markdown",
   "metadata": {},
   "source": [
    "### Day 14"
   ]
  },
  {
   "cell_type": "code",
   "execution_count": 72,
   "metadata": {},
   "outputs": [
    {
     "name": "stdout",
     "output_type": "stream",
     "text": [
      "Day 14 round 1 answer = 230172768\n",
      "Day 14 round 2 answer = 8087\n"
     ]
    }
   ],
   "source": [
    "test = False\n",
    "positions_velocities = [(int(y[y.index('=')+1:].split(',')[0]), int(y.split(',')[1]) ) for x in read_input(day=14, test=test) for y in x.split(' ')]\n",
    "positions, velocities = [x for i, x in enumerate(positions_velocities) if i %2 ==0], [x for i, x in enumerate(positions_velocities ) if i %2 ==1]\n",
    "if test:\n",
    "    x_midline , x_max , y_midline , y_max = 5, 11, 3, 7\n",
    "else:\n",
    "    x_midline , x_max , y_midline , y_max = 50,101, 51, 103\n",
    "\n",
    "def quadrant_count(positions, x_midline, y_midline):\n",
    "    quadrants = {'top-left': 0, 'top-right': 0, 'bottom-left': 0, 'bottom-right': 0}\n",
    "    for x, y in positions:\n",
    "        if x == x_midline or y == y_midline:\n",
    "            continue\n",
    "        if x < x_midline and y < y_midline:\n",
    "            quadrants['bottom-left'] += 1\n",
    "        elif x < x_midline and y > y_midline:\n",
    "            quadrants['top-left'] += 1\n",
    "        elif x > x_midline and y < y_midline:\n",
    "            quadrants['bottom-right'] += 1\n",
    "        elif x > x_midline and y > y_midline:\n",
    "            quadrants['top-right'] += 1\n",
    "    return quadrants\n",
    "\n",
    "# Round 1\n",
    "\n",
    "final_positions = []\n",
    "for p ,v in zip(positions, velocities):\n",
    "    new_x, new_y = (p[0]+ 100*v[0]) % x_max,( p[1]+100*v[1] )% y_max\n",
    "    final_positions.append((new_x, new_y))\n",
    "\n",
    "round_1 = 1\n",
    "for x in quadrant_count(final_positions, x_midline, y_midline).values():\n",
    "    round_1 *= x\n",
    "\n",
    "\n",
    "# Round 2 - i had no idea what the tree would look like to i guessed it would have unique positions\n",
    "round_2 = 0\n",
    "while True:\n",
    "    unique_positions = set(positions)\n",
    "    if len(unique_positions) == len(positions):\n",
    "        break\n",
    "    for i in range(len(positions)):\n",
    "        x, y, v_x, v_y = *positions[i], *velocities[i]\n",
    "        new_x, new_y = (x+ v_x) % x_max,( y+v_y )% y_max\n",
    "        positions[i] = (new_x, new_y)\n",
    "    round_2 += 1\n",
    "    if T > 10_000:\n",
    "        break\n",
    "print('Day 14 round 1 answer =', round_1)\n",
    "print('Day 14 round 2 answer =', round_2)\n"
   ]
  },
  {
   "cell_type": "markdown",
   "metadata": {},
   "source": [
    "### Day 15"
   ]
  },
  {
   "cell_type": "code",
   "execution_count": 273,
   "metadata": {},
   "outputs": [
    {
     "name": "stdout",
     "output_type": "stream",
     "text": [
      "Day 15 round 1 answer = 1475249\n",
      "Day 15 round 2 answer = 1509724\n"
     ]
    }
   ],
   "source": [
    "warehouse, moves = read_input(day=15,test=False, input_delimter='\\n\\n')\n",
    "moves = moves.replace('\\n','')\n",
    "positions_dict, wide_positions_dict = defaultdict(list), defaultdict(list)\n",
    "for x, line in enumerate(warehouse.split('\\n')):\n",
    "    for y, letter in enumerate(line):\n",
    "        positions_dict[letter].append(x+y*1j)\n",
    "        if letter == '@':\n",
    "            wide_positions_dict[letter].append(x+2*y*1j)\n",
    "        elif letter == '#':\n",
    "            wide_positions_dict[letter] += [x+2*y*1j, x+(2*y+1)*1j]\n",
    "        else:\n",
    "            wide_positions_dict[letter].append((x+2*y*1j, x+(2*y+1)*1j))\n",
    "\n",
    "        \n",
    "\n",
    "def make_move(direction, position):\n",
    "    move_dict = {'^': -1,  'v': 1, '>': 1j,  '<': -1j }\n",
    "    return position + move_dict[direction]\n",
    "    \n",
    "def gps_coord(position):\n",
    "    return 100*position.real + position.imag\n",
    "\n",
    "for direction in moves:\n",
    "    \n",
    "    #Round 1\n",
    "    new_robot_position = make_move(direction, positions_dict['@'][0])\n",
    "    new_box_positions = positions_dict['O'][:]\n",
    "    if new_robot_position in positions_dict['#']:\n",
    "        change_position = False\n",
    "    elif move_boxes := new_robot_position in positions_dict['O']:\n",
    "        box_to_move = new_box_positions.pop(new_box_positions.index(new_robot_position))\n",
    "        while move_boxes == True:\n",
    "            new_box_position = make_move(direction, box_to_move)\n",
    "            if new_box_position in positions_dict['#']:\n",
    "                move_boxes = False\n",
    "                change_position = False\n",
    "            elif new_box_position in positions_dict['O']:\n",
    "                new_box_positions.append(new_box_position)\n",
    "                box_to_move = new_box_positions.pop(new_box_positions.index(new_box_position))\n",
    "            else:\n",
    "                change_position = True\n",
    "                new_box_positions.append(new_box_position)\n",
    "                move_boxes = False\n",
    "    else:\n",
    "        change_position = True\n",
    "    if change_position:\n",
    "        positions_dict['@'] = [new_robot_position]\n",
    "        positions_dict['O'] = new_box_positions\n",
    "\n",
    "    #Round 2\n",
    "    new_wide_robot_position = make_move(direction, wide_positions_dict['@'][0])\n",
    "    new_wide_box_positions = wide_positions_dict['O'][:]\n",
    "\n",
    "    if new_wide_robot_position in wide_positions_dict['#']:\n",
    "        change_wide_position = False\n",
    "\n",
    "    elif move_wide_boxes := any([new_wide_robot_position in x for x in wide_positions_dict['O']]):\n",
    "\n",
    "        index_to_pop = [i for i, x in enumerate(new_wide_box_positions) if new_wide_robot_position in x ][0]\n",
    "        wide_box_to_move = new_wide_box_positions.pop(index_to_pop)\n",
    "        wide_boxes_to_move = {wide_box_to_move}\n",
    "\n",
    "        while move_wide_boxes == True:\n",
    "            new_wide_boxes_to_move = set()\n",
    "            new_wide_box_positions_to_add = set()\n",
    "            for wide_box_to_move in wide_boxes_to_move:\n",
    "                new_wide_box_position = (make_move(direction, wide_box_to_move[0]), make_move(direction, wide_box_to_move[1]))\n",
    "                \n",
    "                if new_wide_box_position[0] in wide_positions_dict['#'] or new_wide_box_position[1] in wide_positions_dict['#']:\n",
    "                    move_wide_boxes = False\n",
    "                    change_wide_position = False\n",
    "                    break\n",
    "\n",
    "                elif any([new_wide_box_position[0] in x for x in new_wide_box_positions]) or any([new_wide_box_position[1] in x for x in new_wide_box_positions]):\n",
    "                    indexes_to_pop = sorted([i for i, x in enumerate(new_wide_box_positions) if new_wide_box_position[0] in x or  new_wide_box_position[1] in x], reverse=True)\n",
    "                    for i in indexes_to_pop:\n",
    "                        new_wide_box_to_move = new_wide_box_positions.pop(i)\n",
    "                        new_wide_boxes_to_move.add(new_wide_box_to_move)\n",
    "                    new_wide_box_positions_to_add.add(new_wide_box_position)\n",
    "\n",
    "                else:\n",
    "                    change_wide_position = True\n",
    "                    new_wide_box_positions_to_add.add(new_wide_box_position)\n",
    "\n",
    "            wide_boxes_to_move =  new_wide_boxes_to_move.copy()\n",
    "            new_wide_box_positions += list(new_wide_box_positions_to_add)\n",
    "            move_wide_boxes = len(wide_boxes_to_move) > 0 and move_wide_boxes\n",
    "       \n",
    "    else:\n",
    "        change_wide_position = True\n",
    "\n",
    "    if change_position:\n",
    "        positions_dict['@'] = [new_robot_position]\n",
    "        positions_dict['O'] = new_box_positions\n",
    "\n",
    "    if change_wide_position:\n",
    "        wide_positions_dict['@'] = [new_wide_robot_position]\n",
    "        wide_positions_dict['O'] = new_wide_box_positions\n",
    "    \n",
    "print('Day 15 round 1 answer =', int(sum([gps_coord(position) for position in positions_dict['O']])))\n",
    "print('Day 15 round 2 answer =', int(sum([gps_coord(position[0]) for position in wide_positions_dict['O']])))\n",
    "\n",
    "\n"
   ]
  },
  {
   "cell_type": "markdown",
   "metadata": {},
   "source": [
    "### Day 16"
   ]
  },
  {
   "cell_type": "code",
   "execution_count": 45,
   "metadata": {},
   "outputs": [
    {
     "name": "stdout",
     "output_type": "stream",
     "text": [
      "107468\n",
      "533\n"
     ]
    }
   ],
   "source": [
    "# I am sick of not learning the actual comsci algos needed for these so decided to do some research before starting, \n",
    "\n",
    "# Initially for my round 1 answer i used an A* algo, which was absolutely rapid for part 1 but by definition was against the point for part two\n",
    "# This algorithm prioritises guesses by a best guess which in my case was minimising the manhatten distance\n",
    "# This is much more efficient than dijkstras as you don't compute as many paths\n",
    "# This is all gone now! Part two ruined it. Since i had refused dijkstra's once i tried desparately to adapt my code, but really it's all the same thing\n",
    "\n",
    "# One thing I did which was sensible is only run it on coords with no obstacles in the first place, this simplifies loads of mess\n",
    "\n",
    "all_objects = [(object, i, j) for i , line in enumerate( read_input(day=16, test=False)) for j, object in enumerate(line) ]\n",
    "maze = {(i,j) for object, i , j in all_objects if object != '#'}\n",
    "start , end = [(i,j) for object, i , j in all_objects if object == 'S'][0] ,[(i,j) for object, i , j in all_objects if object == 'E'][0]\n",
    "\n",
    "def both_rounds_in_one(maze, start, end):\n",
    "    directions = [(0, 1), (1, 0), (0, -1), (-1, 0)]  \n",
    "    best = float('inf')\n",
    "    initial_direction = 0 \n",
    "    visited_points = []\n",
    "\n",
    "\n",
    "    # Priority queue: (priority, cost, position, direction, path) - this decides what node will be checked first\n",
    "    # A very fun note:\n",
    "        # If you include the equivalent of an identity column in sql, like an sql index it is faster to sort\n",
    "        # I found this idea whilst researching solutions\n",
    "        # I have left it out but may put it in a note\n",
    "        \n",
    "    priority_queue = [(0, start, initial_direction, [start])]\n",
    "    costs = defaultdict(lambda: float('inf')) #if it's not in the dict of costs, make it a max value\n",
    "    iteration_num = 0\n",
    "    while priority_queue:\n",
    "\n",
    "        cost, current, direction, path = heapq.heappop(priority_queue)\n",
    "        \n",
    "        if cost > costs[current, direction]:\n",
    "            continue\n",
    "        else:\n",
    "            costs[(current, direction)] = cost\n",
    "        # End reached\n",
    "        if current == end and cost <= best:\n",
    "            best = cost\n",
    "            visited_points += path \n",
    "            \n",
    "\n",
    "        for new_direction, (dx, dy) in enumerate(directions):\n",
    "            next_coord = (current[0] + dx, current[1] + dy)\n",
    "            if next_coord in maze: \n",
    "\n",
    "                rotation_cost = 1000 if direction != new_direction else 0\n",
    "\n",
    "                new_cost = cost+ 1 + rotation_cost\n",
    "               \n",
    "                heapq.heappush(priority_queue, (new_cost, next_coord, new_direction, path + [next_coord]))\n",
    "        iteration_num +=1\n",
    "    return best, set(visited_points)\n",
    "\n",
    "\n",
    "cost, visited_points = both_rounds_in_one(maze, start, end)\n",
    "\n",
    "print('Day 16 round 1 answer =', cost)\n",
    "print('Day 16 round 2 answer =', len(visited_points))\n",
    "\n",
    "\n"
   ]
  }
 ],
 "metadata": {
  "kernelspec": {
   "display_name": "Python 3",
   "language": "python",
   "name": "python3"
  },
  "language_info": {
   "codemirror_mode": {
    "name": "ipython",
    "version": 3
   },
   "file_extension": ".py",
   "mimetype": "text/x-python",
   "name": "python",
   "nbconvert_exporter": "python",
   "pygments_lexer": "ipython3",
   "version": "3.11.5"
  }
 },
 "nbformat": 4,
 "nbformat_minor": 2
}
